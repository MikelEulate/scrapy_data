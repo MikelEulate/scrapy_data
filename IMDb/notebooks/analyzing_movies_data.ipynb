{
 "cells": [
  {
   "cell_type": "code",
   "execution_count": 46,
   "metadata": {},
   "outputs": [],
   "source": [
    "import pandas as pd\n",
    "import seaborn as sns\n",
    "import numpy as np\n",
    "import matplotlib.pyplot as plt\n",
    "from collections import Counter"
   ]
  },
  {
   "cell_type": "code",
   "execution_count": 47,
   "metadata": {},
   "outputs": [],
   "source": [
    "df = pd.read_csv('../data/imbd_2014_2018.csv', index_col=0)"
   ]
  },
  {
   "cell_type": "code",
   "execution_count": 48,
   "metadata": {},
   "outputs": [
    {
     "data": {
      "text/html": [
       "<div>\n",
       "<style scoped>\n",
       "    .dataframe tbody tr th:only-of-type {\n",
       "        vertical-align: middle;\n",
       "    }\n",
       "\n",
       "    .dataframe tbody tr th {\n",
       "        vertical-align: top;\n",
       "    }\n",
       "\n",
       "    .dataframe thead th {\n",
       "        text-align: right;\n",
       "    }\n",
       "</style>\n",
       "<table border=\"1\" class=\"dataframe\">\n",
       "  <thead>\n",
       "    <tr style=\"text-align: right;\">\n",
       "      <th></th>\n",
       "      <th>movie</th>\n",
       "      <th>year</th>\n",
       "      <th>rate</th>\n",
       "      <th>votes</th>\n",
       "      <th>description</th>\n",
       "      <th>genre</th>\n",
       "      <th>minutes</th>\n",
       "      <th>director</th>\n",
       "    </tr>\n",
       "  </thead>\n",
       "  <tbody>\n",
       "    <tr>\n",
       "      <th>0</th>\n",
       "      <td>Interstellar</td>\n",
       "      <td>2014</td>\n",
       "      <td>8.6</td>\n",
       "      <td>1218193</td>\n",
       "      <td>A team of explorers travel through a wormh...</td>\n",
       "      <td>\\nAdventure, Drama, Sci-Fi</td>\n",
       "      <td>169</td>\n",
       "      <td>Christopher Nolan</td>\n",
       "    </tr>\n",
       "    <tr>\n",
       "      <th>1</th>\n",
       "      <td>Guardianes de la galaxia</td>\n",
       "      <td>2014</td>\n",
       "      <td>8.1</td>\n",
       "      <td>879628</td>\n",
       "      <td>A group of intergalactic criminals are for...</td>\n",
       "      <td>\\nAction, Adventure, Comedy</td>\n",
       "      <td>121</td>\n",
       "      <td>James Gunn</td>\n",
       "    </tr>\n",
       "    <tr>\n",
       "      <th>2</th>\n",
       "      <td>Perdida</td>\n",
       "      <td>2014</td>\n",
       "      <td>8.1</td>\n",
       "      <td>723608</td>\n",
       "      <td>With his wife's disappearance having becom...</td>\n",
       "      <td>\\nCrime, Drama, Mystery</td>\n",
       "      <td>149</td>\n",
       "      <td>David Fincher</td>\n",
       "    </tr>\n",
       "    <tr>\n",
       "      <th>3</th>\n",
       "      <td>Capitán América: El Soldado de Invierno</td>\n",
       "      <td>2014</td>\n",
       "      <td>7.8</td>\n",
       "      <td>619087</td>\n",
       "      <td>As Steve Rogers struggles to embrace his r...</td>\n",
       "      <td>\\nAction, Adventure, Sci-Fi</td>\n",
       "      <td>136</td>\n",
       "      <td>Anthony Russo</td>\n",
       "    </tr>\n",
       "    <tr>\n",
       "      <th>4</th>\n",
       "      <td>El gran hotel Budapest</td>\n",
       "      <td>2014</td>\n",
       "      <td>8.1</td>\n",
       "      <td>604432</td>\n",
       "      <td>The adventures of Gustave H, a legendary c...</td>\n",
       "      <td>\\nAdventure, Comedy, Drama</td>\n",
       "      <td>99</td>\n",
       "      <td>Wes Anderson</td>\n",
       "    </tr>\n",
       "  </tbody>\n",
       "</table>\n",
       "</div>"
      ],
      "text/plain": [
       "                                     movie  year  rate    votes  \\\n",
       "0                             Interstellar  2014   8.6  1218193   \n",
       "1                 Guardianes de la galaxia  2014   8.1   879628   \n",
       "2                                  Perdida  2014   8.1   723608   \n",
       "3  Capitán América: El Soldado de Invierno  2014   7.8   619087   \n",
       "4                   El gran hotel Budapest  2014   8.1   604432   \n",
       "\n",
       "                                         description  \\\n",
       "0      A team of explorers travel through a wormh...   \n",
       "1      A group of intergalactic criminals are for...   \n",
       "2      With his wife's disappearance having becom...   \n",
       "3      As Steve Rogers struggles to embrace his r...   \n",
       "4      The adventures of Gustave H, a legendary c...   \n",
       "\n",
       "                                     genre  minutes           director  \n",
       "0   \\nAdventure, Drama, Sci-Fi                  169  Christopher Nolan  \n",
       "1  \\nAction, Adventure, Comedy                  121         James Gunn  \n",
       "2      \\nCrime, Drama, Mystery                  149      David Fincher  \n",
       "3  \\nAction, Adventure, Sci-Fi                  136      Anthony Russo  \n",
       "4   \\nAdventure, Comedy, Drama                   99       Wes Anderson  "
      ]
     },
     "execution_count": 48,
     "metadata": {},
     "output_type": "execute_result"
    }
   ],
   "source": [
    "df.head()"
   ]
  },
  {
   "cell_type": "markdown",
   "metadata": {},
   "source": [
    "## Parsing the dataframe"
   ]
  },
  {
   "cell_type": "code",
   "execution_count": 49,
   "metadata": {},
   "outputs": [
    {
     "name": "stdout",
     "output_type": "stream",
     "text": [
      "Counter({'2016': 149, '2014': 148, '2017': 130, '2015': 128, '2017– ': 27, '2011– ': 26, 'I 2015': 24, '2015– ': 22, 'I 2017': 22, 'I 2014': 21, '2016– ': 17, 'I 2016': 15, '2014– ': 13, 'II 2015': 7, '2015–2018': 5, 'II 2016': 5, '2010– ': 5, 'II 2014': 4, '2015–2016': 4, '2014–2017': 3, '2014–2015': 3, '2015–2017': 3, '2014–2016': 2, 'III 2015': 2, '2016–2018': 2, 'II 2017': 2, 'III 2014': 1, '2014–2018': 1, 'VI 2015': 1, 'IX 2016': 1, 'V 2016': 1, '2016–2019': 1, '2016–2017': 1, 'III 2016': 1, '2017–2018': 1, 'III 2017': 1, '2013– ': 1})\n"
     ]
    }
   ],
   "source": [
    "number_of_movies_per_year = Counter(df['year'])\n",
    "print(number_of_movies_per_year)"
   ]
  },
  {
   "cell_type": "code",
   "execution_count": 50,
   "metadata": {},
   "outputs": [],
   "source": [
    "def parse_df(df):\n",
    "    df['genre'] = df['genre'].apply(lambda x : x.replace(\"\\n\", \"\"))\n",
    "    return df"
   ]
  },
  {
   "cell_type": "code",
   "execution_count": 51,
   "metadata": {},
   "outputs": [],
   "source": [
    "data = parse_df(df)"
   ]
  },
  {
   "cell_type": "code",
   "execution_count": 52,
   "metadata": {},
   "outputs": [
    {
     "data": {
      "text/html": [
       "<div>\n",
       "<style scoped>\n",
       "    .dataframe tbody tr th:only-of-type {\n",
       "        vertical-align: middle;\n",
       "    }\n",
       "\n",
       "    .dataframe tbody tr th {\n",
       "        vertical-align: top;\n",
       "    }\n",
       "\n",
       "    .dataframe thead th {\n",
       "        text-align: right;\n",
       "    }\n",
       "</style>\n",
       "<table border=\"1\" class=\"dataframe\">\n",
       "  <thead>\n",
       "    <tr style=\"text-align: right;\">\n",
       "      <th></th>\n",
       "      <th>movie</th>\n",
       "      <th>year</th>\n",
       "      <th>rate</th>\n",
       "      <th>votes</th>\n",
       "      <th>description</th>\n",
       "      <th>genre</th>\n",
       "      <th>minutes</th>\n",
       "      <th>director</th>\n",
       "    </tr>\n",
       "  </thead>\n",
       "  <tbody>\n",
       "    <tr>\n",
       "      <th>0</th>\n",
       "      <td>Interstellar</td>\n",
       "      <td>2014</td>\n",
       "      <td>8.6</td>\n",
       "      <td>1218193</td>\n",
       "      <td>A team of explorers travel through a wormh...</td>\n",
       "      <td>Adventure, Drama, Sci-Fi</td>\n",
       "      <td>169</td>\n",
       "      <td>Christopher Nolan</td>\n",
       "    </tr>\n",
       "    <tr>\n",
       "      <th>1</th>\n",
       "      <td>Guardianes de la galaxia</td>\n",
       "      <td>2014</td>\n",
       "      <td>8.1</td>\n",
       "      <td>879628</td>\n",
       "      <td>A group of intergalactic criminals are for...</td>\n",
       "      <td>Action, Adventure, Comedy</td>\n",
       "      <td>121</td>\n",
       "      <td>James Gunn</td>\n",
       "    </tr>\n",
       "    <tr>\n",
       "      <th>2</th>\n",
       "      <td>Perdida</td>\n",
       "      <td>2014</td>\n",
       "      <td>8.1</td>\n",
       "      <td>723608</td>\n",
       "      <td>With his wife's disappearance having becom...</td>\n",
       "      <td>Crime, Drama, Mystery</td>\n",
       "      <td>149</td>\n",
       "      <td>David Fincher</td>\n",
       "    </tr>\n",
       "    <tr>\n",
       "      <th>3</th>\n",
       "      <td>Capitán América: El Soldado de Invierno</td>\n",
       "      <td>2014</td>\n",
       "      <td>7.8</td>\n",
       "      <td>619087</td>\n",
       "      <td>As Steve Rogers struggles to embrace his r...</td>\n",
       "      <td>Action, Adventure, Sci-Fi</td>\n",
       "      <td>136</td>\n",
       "      <td>Anthony Russo</td>\n",
       "    </tr>\n",
       "    <tr>\n",
       "      <th>4</th>\n",
       "      <td>El gran hotel Budapest</td>\n",
       "      <td>2014</td>\n",
       "      <td>8.1</td>\n",
       "      <td>604432</td>\n",
       "      <td>The adventures of Gustave H, a legendary c...</td>\n",
       "      <td>Adventure, Comedy, Drama</td>\n",
       "      <td>99</td>\n",
       "      <td>Wes Anderson</td>\n",
       "    </tr>\n",
       "  </tbody>\n",
       "</table>\n",
       "</div>"
      ],
      "text/plain": [
       "                                     movie  year  rate    votes  \\\n",
       "0                             Interstellar  2014   8.6  1218193   \n",
       "1                 Guardianes de la galaxia  2014   8.1   879628   \n",
       "2                                  Perdida  2014   8.1   723608   \n",
       "3  Capitán América: El Soldado de Invierno  2014   7.8   619087   \n",
       "4                   El gran hotel Budapest  2014   8.1   604432   \n",
       "\n",
       "                                         description  \\\n",
       "0      A team of explorers travel through a wormh...   \n",
       "1      A group of intergalactic criminals are for...   \n",
       "2      With his wife's disappearance having becom...   \n",
       "3      As Steve Rogers struggles to embrace his r...   \n",
       "4      The adventures of Gustave H, a legendary c...   \n",
       "\n",
       "                                   genre  minutes           director  \n",
       "0   Adventure, Drama, Sci-Fi                  169  Christopher Nolan  \n",
       "1  Action, Adventure, Comedy                  121         James Gunn  \n",
       "2      Crime, Drama, Mystery                  149      David Fincher  \n",
       "3  Action, Adventure, Sci-Fi                  136      Anthony Russo  \n",
       "4   Adventure, Comedy, Drama                   99       Wes Anderson  "
      ]
     },
     "execution_count": 52,
     "metadata": {},
     "output_type": "execute_result"
    }
   ],
   "source": [
    "data.head()"
   ]
  },
  {
   "cell_type": "code",
   "execution_count": 53,
   "metadata": {},
   "outputs": [],
   "source": [
    "d = {'2017– ': '2017', '2011– ': '2011', 'I 2015': '2015', '2015– ': '2015', \\\n",
    "     'I 2017': '2017', 'I 2014': '2014', '2016– ': '2016', 'I 2016': '2016', \\\n",
    "     '2014– ': '2014', 'II 2015': '2015', '2015–2018': '2018', 'II 2016': '2016',\\\n",
    "     '2010– ': '2010', 'II 2014': '2014', '2015–2016': '2016', '2014–2017': '2017', \\\n",
    "     '2014–2015': '2015', '2015–2017': '2017', '2014–2016': '2016', 'III 2015': '2015',\\\n",
    "     '2016–2018': '2018', 'II 2017': '2017', 'III 2014': '2014', '2014–2018': '2018', \\\n",
    "     'VI 2015': '2015', 'IX 2016': '2016', 'V 2016': '2016', '2016–2019': '2019', \\\n",
    "     '2016–2017': '2017', 'III 2016': '2016', '2017–2018': '2018', 'III 2017': '2017', '2013– ': '2013'}\n",
    "\n",
    "\n",
    "df['year'].replace(d, inplace = True)"
   ]
  },
  {
   "cell_type": "code",
   "execution_count": 54,
   "metadata": {},
   "outputs": [
    {
     "name": "stdout",
     "output_type": "stream",
     "text": [
      "Counter({'2016': 195, '2017': 189, '2014': 187, '2015': 187, '2011': 26, '2018': 9, '2010': 5, '2019': 1, '2013': 1})\n"
     ]
    }
   ],
   "source": [
    "number_of_movies_per_year = Counter(df['year'])\n",
    "print(number_of_movies_per_year)"
   ]
  },
  {
   "cell_type": "markdown",
   "metadata": {},
   "source": [
    "## Histogram of the movie rates:"
   ]
  },
  {
   "cell_type": "code",
   "execution_count": 55,
   "metadata": {
    "scrolled": false
   },
   "outputs": [
    {
     "name": "stderr",
     "output_type": "stream",
     "text": [
      "/home/mikel/.local/lib/python3.6/site-packages/scipy/stats/stats.py:1713: FutureWarning: Using a non-tuple sequence for multidimensional indexing is deprecated; use `arr[tuple(seq)]` instead of `arr[seq]`. In the future this will be interpreted as an array index, `arr[np.array(seq)]`, which will result either in an error or a different result.\n",
      "  return np.add.reduce(sorted[indexer] * weights, axis=axis) / sumval\n"
     ]
    },
    {
     "data": {
      "image/png": "[encoded data removed]",
      "text/plain": [
       "<Figure size 432x288 with 1 Axes>"
      ]
     },
     "metadata": {
      "needs_background": "light"
     },
     "output_type": "display_data"
    }
   ],
   "source": [
    "sns.distplot(df['rate']);"
   ]
  },
  {
   "cell_type": "markdown",
   "metadata": {},
   "source": [
    "## Histogram of the movie minutes:"
   ]
  },
  {
   "cell_type": "code",
   "execution_count": 35,
   "metadata": {
    "scrolled": false
   },
   "outputs": [
    {
     "name": "stderr",
     "output_type": "stream",
     "text": [
      "/home/mikel/.local/lib/python3.6/site-packages/scipy/stats/stats.py:1713: FutureWarning: Using a non-tuple sequence for multidimensional indexing is deprecated; use `arr[tuple(seq)]` instead of `arr[seq]`. In the future this will be interpreted as an array index, `arr[np.array(seq)]`, which will result either in an error or a different result.\n",
      "  return np.add.reduce(sorted[indexer] * weights, axis=axis) / sumval\n"
     ]
    },
    {
     "data": {
      "image/png": "[encoded data removed]",
      "text/plain": [
       "<Figure size 432x288 with 1 Axes>"
      ]
     },
     "metadata": {
      "needs_background": "light"
     },
     "output_type": "display_data"
    }
   ],
   "source": [
    "sns.distplot(df['minutes']);"
   ]
  },
  {
   "cell_type": "markdown",
   "metadata": {},
   "source": [
    "## Histogram of the votes:"
   ]
  },
  {
   "cell_type": "code",
   "execution_count": 58,
   "metadata": {
    "scrolled": false
   },
   "outputs": [
    {
     "data": {
      "image/png": "[encoded data removed]",
      "text/plain": [
       "<Figure size 432x288 with 1 Axes>"
      ]
     },
     "metadata": {
      "needs_background": "light"
     },
     "output_type": "display_data"
    }
   ],
   "source": [
    "sns.distplot(df['votes'])"
   ]
  },
  {
   "cell_type": "markdown",
   "metadata": {},
   "source": [
    "## Histogram of the movie counts per year:"
   ]
  },
  {
   "cell_type": "code",
   "execution_count": 59,
   "metadata": {},
   "outputs": [
    {
     "name": "stderr",
     "output_type": "stream",
     "text": [
      "/home/mikel/.local/lib/python3.6/site-packages/scipy/stats/stats.py:1713: FutureWarning: Using a non-tuple sequence for multidimensional indexing is deprecated; use `arr[tuple(seq)]` instead of `arr[seq]`. In the future this will be interpreted as an array index, `arr[np.array(seq)]`, which will result either in an error or a different result.\n",
      "  return np.add.reduce(sorted[indexer] * weights, axis=axis) / sumval\n"
     ]
    },
    {
     "data": {
      "text/plain": [
       "<matplotlib.axes._subplots.AxesSubplot at 0x7fd3168eb128>"
      ]
     },
     "execution_count": 59,
     "metadata": {},
     "output_type": "execute_result"
    },
    {
     "data": {
      "image/png": "[encoded data removed]",
      "text/plain": [
       "<Figure size 432x288 with 1 Axes>"
      ]
     },
     "metadata": {
      "needs_background": "light"
     },
     "output_type": "display_data"
    }
   ],
   "source": [
    "years_integers = df['year'].apply(lambda x: int(x))\n",
    "sns.distplot(years_integers)"
   ]
  },
  {
   "cell_type": "markdown",
   "metadata": {},
   "source": [
    "## Most rated movie per year:"
   ]
  },
  {
   "cell_type": "code",
   "execution_count": 75,
   "metadata": {},
   "outputs": [
    {
     "name": "stdout",
     "output_type": "stream",
     "text": [
      "2014\n",
      "                                      movie  year  rate  votes  \\\n",
      "91  Cosmos: Una odisea en el espacio-tiempo  2014   9.3  88947   \n",
      "\n",
      "                                          description  \\\n",
      "91      An exploration of our discovery of the law...   \n",
      "\n",
      "                      genre  minutes             director  \n",
      "91  Documentary                  557  Neil deGrasse Tyson  \n",
      "2016\n",
      "                 movie  year  rate  votes  \\\n",
      "519  Planeta Tierra II  2016   9.5  57862   \n",
      "\n",
      "                                           description  \\\n",
      "519      David Attenborough returns in this breatht...   \n",
      "\n",
      "                       genre  minutes            director  \n",
      "519  Documentary                  360  David Attenborough  \n",
      "2017\n",
      "                         movie  year  rate  votes  \\\n",
      "771  Ayla: The Daughter of War  2017   8.9  22639   \n",
      "\n",
      "                                           description  \\\n",
      "771      In 1950, amidst the ravages of the Korean ...   \n",
      "\n",
      "                               genre  minutes   director  \n",
      "771  Drama, History, War                  125  Can Ulkay  \n",
      "2015\n",
      "            movie  year  rate  votes  \\\n",
      "345  TVF Pitchers  2015   9.2  42053   \n",
      "\n",
      "                                           description  \\\n",
      "345      A story of trials and tribulations of four...   \n",
      "\n",
      "                         genre  minutes       director  \n",
      "345  Comedy, Drama                   40  Arunabh Kumar  \n",
      "2018\n",
      "                 movie  year  rate  votes  \\\n",
      "320  Ash vs. Evil Dead  2018   8.5  52792   \n",
      "\n",
      "                                           description  \\\n",
      "320      Ash has spent the last thirty years avoidi...   \n",
      "\n",
      "                                   genre  minutes        director  \n",
      "320  Action, Comedy, Fantasy                   30  Bruce Campbell  \n",
      "2011\n",
      "                movie  year  rate   votes  \\\n",
      "439   Juego de tronos  2011   9.9  156652   \n",
      "\n",
      "                                           description  \\\n",
      "439      Jon and Sansa face Ramsay Bolton on the fi...   \n",
      "\n",
      "                                    genre  minutes          director  \n",
      "439  Action, Adventure, Drama                   60  Miguel Sapochnik  \n",
      "2019\n",
      "                 movie  year  rate  votes  \\\n",
      "528  Sucesor designado  2019   7.7  51639   \n",
      "\n",
      "                                           description  \\\n",
      "528      A low-level Cabinet member becomes Preside...   \n",
      "\n",
      "                                  genre  minutes           director  \n",
      "528  Action, Drama, Mystery                   60  Kiefer Sutherland  \n",
      "2010\n",
      "         movie  year  rate  votes  \\\n",
      "776   Sherlock  2010   9.2  21843   \n",
      "\n",
      "                                           description  \\\n",
      "776      Sherlock goes up against the powerful and ...   \n",
      "\n",
      "                                 genre  minutes     director  \n",
      "776  Crime, Drama, Mystery                   89  Nick Hurran  \n",
      "2013\n",
      "             movie  year  rate  votes  \\\n",
      "798   Rick y Morty  2013   9.8  17993   \n",
      "\n",
      "                                           description  \\\n",
      "798      Whilst Rick and Morty go off to adventure ...   \n",
      "\n",
      "                                        genre  minutes         director  \n",
      "798  Animation, Adventure, Comedy                   22  Dominic Polcino  \n"
     ]
    }
   ],
   "source": [
    "for year in number_of_movies_per_year:\n",
    "    print(year)\n",
    "    print(df[df['year']== year].sort_values(by = 'rate',  ascending=False).head(1))"
   ]
  },
  {
   "cell_type": "code",
   "execution_count": 72,
   "metadata": {},
   "outputs": [
    {
     "data": {
      "text/html": [
       "<div>\n",
       "<style scoped>\n",
       "    .dataframe tbody tr th:only-of-type {\n",
       "        vertical-align: middle;\n",
       "    }\n",
       "\n",
       "    .dataframe tbody tr th {\n",
       "        vertical-align: top;\n",
       "    }\n",
       "\n",
       "    .dataframe thead th {\n",
       "        text-align: right;\n",
       "    }\n",
       "</style>\n",
       "<table border=\"1\" class=\"dataframe\">\n",
       "  <thead>\n",
       "    <tr style=\"text-align: right;\">\n",
       "      <th></th>\n",
       "      <th>movie</th>\n",
       "      <th>year</th>\n",
       "      <th>rate</th>\n",
       "      <th>votes</th>\n",
       "      <th>description</th>\n",
       "      <th>genre</th>\n",
       "      <th>minutes</th>\n",
       "      <th>director</th>\n",
       "    </tr>\n",
       "  </thead>\n",
       "  <tbody>\n",
       "    <tr>\n",
       "      <th>519</th>\n",
       "      <td>Planeta Tierra II</td>\n",
       "      <td>2016</td>\n",
       "      <td>9.5</td>\n",
       "      <td>57862</td>\n",
       "      <td>David Attenborough returns in this breatht...</td>\n",
       "      <td>Documentary</td>\n",
       "      <td>360</td>\n",
       "      <td>David Attenborough</td>\n",
       "    </tr>\n",
       "  </tbody>\n",
       "</table>\n",
       "</div>"
      ],
      "text/plain": [
       "                 movie  year  rate  votes  \\\n",
       "519  Planeta Tierra II  2016   9.5  57862   \n",
       "\n",
       "                                           description  \\\n",
       "519      David Attenborough returns in this breatht...   \n",
       "\n",
       "                       genre  minutes            director  \n",
       "519  Documentary                  360  David Attenborough  "
      ]
     },
     "execution_count": 72,
     "metadata": {},
     "output_type": "execute_result"
    }
   ],
   "source": [
    "df[df['year']== '2016'].sort_values(by = 'rate',  ascending=False).head(1)"
   ]
  },
  {
   "cell_type": "code",
   "execution_count": null,
   "metadata": {},
   "outputs": [],
   "source": []
  }
 ],
 "metadata": {
  "kernelspec": {
   "display_name": "Python 3",
   "language": "python",
   "name": "python3"
  },
  "language_info": {
   "codemirror_mode": {
    "name": "ipython",
    "version": 3
   },
   "file_extension": ".py",
   "mimetype": "text/x-python",
   "name": "python",
   "nbconvert_exporter": "python",
   "pygments_lexer": "ipython3",
   "version": "3.6.6"
  }
 },
 "nbformat": 4,
 "nbformat_minor": 2
}
