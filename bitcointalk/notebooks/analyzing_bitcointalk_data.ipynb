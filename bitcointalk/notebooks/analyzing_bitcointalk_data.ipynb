{
 "cells": [
  {
   "cell_type": "code",
   "execution_count": 9,
   "metadata": {},
   "outputs": [],
   "source": [
    "import pandas as pd\n",
    "import numpy as np\n",
    "import matplotlib.pyplot as plt\n",
    "from collections import Counter\n"
   ]
  },
  {
   "cell_type": "code",
   "execution_count": 4,
   "metadata": {},
   "outputs": [],
   "source": [
    "df = pd.read_csv('../data/bitcointalk_allposts.csv', index_col=0)"
   ]
  },
  {
   "cell_type": "code",
   "execution_count": 5,
   "metadata": {},
   "outputs": [
    {
     "data": {
      "text/html": [
       "<div>\n",
       "<style scoped>\n",
       "    .dataframe tbody tr th:only-of-type {\n",
       "        vertical-align: middle;\n",
       "    }\n",
       "\n",
       "    .dataframe tbody tr th {\n",
       "        vertical-align: top;\n",
       "    }\n",
       "\n",
       "    .dataframe thead th {\n",
       "        text-align: right;\n",
       "    }\n",
       "</style>\n",
       "<table border=\"1\" class=\"dataframe\">\n",
       "  <thead>\n",
       "    <tr style=\"text-align: right;\">\n",
       "      <th></th>\n",
       "      <th>activity</th>\n",
       "      <th>grade</th>\n",
       "      <th>merit</th>\n",
       "      <th>message</th>\n",
       "      <th>time</th>\n",
       "      <th>user</th>\n",
       "    </tr>\n",
       "  </thead>\n",
       "  <tbody>\n",
       "    <tr>\n",
       "      <th>0</th>\n",
       "      <td>574</td>\n",
       "      <td>Sr. Member Offline</td>\n",
       "      <td>262</td>\n",
       "      <td>['&lt;div class=\"quoteheader\"&gt;&lt;a href=\"https://bi...</td>\n",
       "      <td>July 10, 2018, 04:54:40 AM</td>\n",
       "      <td>yndye</td>\n",
       "    </tr>\n",
       "    <tr>\n",
       "      <th>1</th>\n",
       "      <td>686</td>\n",
       "      <td>Sr. Member Offline</td>\n",
       "      <td>256        Hodl tight, Fight the bear!</td>\n",
       "      <td>['1. Predictions can be true as well, and in c...</td>\n",
       "      <td>July 10, 2018, 05:32:52 AM</td>\n",
       "      <td>Oasisman</td>\n",
       "    </tr>\n",
       "    <tr>\n",
       "      <th>2</th>\n",
       "      <td>41</td>\n",
       "      <td>Newbie Offline</td>\n",
       "      <td>0</td>\n",
       "      <td>[\"Prediction is important. It already becomes ...</td>\n",
       "      <td>July 10, 2018, 05:45:56 AM</td>\n",
       "      <td>Maclyn19</td>\n",
       "    </tr>\n",
       "    <tr>\n",
       "      <th>3</th>\n",
       "      <td>378</td>\n",
       "      <td>Member Offline</td>\n",
       "      <td>11        IDEALCOIN.IO</td>\n",
       "      <td>[\"if you think an investor's prediction is a m...</td>\n",
       "      <td>July 10, 2018, 05:52:32 AM</td>\n",
       "      <td>zolfa</td>\n",
       "    </tr>\n",
       "    <tr>\n",
       "      <th>4</th>\n",
       "      <td>448</td>\n",
       "      <td>Full Member Offline</td>\n",
       "      <td>105        Choyor art</td>\n",
       "      <td>['Predictions are part of the way we work in i...</td>\n",
       "      <td>July 10, 2018, 09:39:58 AM</td>\n",
       "      <td>Choyor</td>\n",
       "    </tr>\n",
       "  </tbody>\n",
       "</table>\n",
       "</div>"
      ],
      "text/plain": [
       "   activity                grade                                   merit  \\\n",
       "0       574   Sr. Member Offline                                     262   \n",
       "1       686   Sr. Member Offline  256        Hodl tight, Fight the bear!   \n",
       "2        41       Newbie Offline                                       0   \n",
       "3       378       Member Offline                  11        IDEALCOIN.IO   \n",
       "4       448  Full Member Offline                   105        Choyor art   \n",
       "\n",
       "                                             message  \\\n",
       "0  ['<div class=\"quoteheader\"><a href=\"https://bi...   \n",
       "1  ['1. Predictions can be true as well, and in c...   \n",
       "2  [\"Prediction is important. It already becomes ...   \n",
       "3  [\"if you think an investor's prediction is a m...   \n",
       "4  ['Predictions are part of the way we work in i...   \n",
       "\n",
       "                         time      user  \n",
       "0  July 10, 2018, 04:54:40 AM     yndye  \n",
       "1  July 10, 2018, 05:32:52 AM  Oasisman  \n",
       "2  July 10, 2018, 05:45:56 AM  Maclyn19  \n",
       "3  July 10, 2018, 05:52:32 AM     zolfa  \n",
       "4  July 10, 2018, 09:39:58 AM    Choyor  "
      ]
     },
     "execution_count": 5,
     "metadata": {},
     "output_type": "execute_result"
    }
   ],
   "source": [
    "df.head()"
   ]
  },
  {
   "cell_type": "code",
   "execution_count": 7,
   "metadata": {},
   "outputs": [
    {
     "data": {
      "text/html": [
       "<div>\n",
       "<style scoped>\n",
       "    .dataframe tbody tr th:only-of-type {\n",
       "        vertical-align: middle;\n",
       "    }\n",
       "\n",
       "    .dataframe tbody tr th {\n",
       "        vertical-align: top;\n",
       "    }\n",
       "\n",
       "    .dataframe thead th {\n",
       "        text-align: right;\n",
       "    }\n",
       "</style>\n",
       "<table border=\"1\" class=\"dataframe\">\n",
       "  <thead>\n",
       "    <tr style=\"text-align: right;\">\n",
       "      <th></th>\n",
       "      <th>activity</th>\n",
       "    </tr>\n",
       "  </thead>\n",
       "  <tbody>\n",
       "    <tr>\n",
       "      <th>count</th>\n",
       "      <td>654.000000</td>\n",
       "    </tr>\n",
       "    <tr>\n",
       "      <th>mean</th>\n",
       "      <td>297.477064</td>\n",
       "    </tr>\n",
       "    <tr>\n",
       "      <th>std</th>\n",
       "      <td>229.492026</td>\n",
       "    </tr>\n",
       "    <tr>\n",
       "      <th>min</th>\n",
       "      <td>1.000000</td>\n",
       "    </tr>\n",
       "    <tr>\n",
       "      <th>25%</th>\n",
       "      <td>117.250000</td>\n",
       "    </tr>\n",
       "    <tr>\n",
       "      <th>50%</th>\n",
       "      <td>266.000000</td>\n",
       "    </tr>\n",
       "    <tr>\n",
       "      <th>75%</th>\n",
       "      <td>419.250000</td>\n",
       "    </tr>\n",
       "    <tr>\n",
       "      <th>max</th>\n",
       "      <td>1624.000000</td>\n",
       "    </tr>\n",
       "  </tbody>\n",
       "</table>\n",
       "</div>"
      ],
      "text/plain": [
       "          activity\n",
       "count   654.000000\n",
       "mean    297.477064\n",
       "std     229.492026\n",
       "min       1.000000\n",
       "25%     117.250000\n",
       "50%     266.000000\n",
       "75%     419.250000\n",
       "max    1624.000000"
      ]
     },
     "execution_count": 7,
     "metadata": {},
     "output_type": "execute_result"
    }
   ],
   "source": [
    "df.describe()"
   ]
  },
  {
   "cell_type": "code",
   "execution_count": 10,
   "metadata": {},
   "outputs": [
    {
     "name": "stdout",
     "output_type": "stream",
     "text": [
      "Counter({'Newbie Offline': 184, 'Full Member Offline': 139, 'Member Offline': 134, 'Sr. Member Offline': 73, 'Jr. Member Offline': 66, 'Hero Member Offline': 23, 'Copper Member': 13, 'Legendary Offline': 4, 'Sr. Member Online': 4, 'Member Online': 3, 'Full Member Online': 3, 'Jr. Member Online': 3, 'Staff': 2, 'Newbie Online': 2, 'Hero Member Online': 1})\n"
     ]
    }
   ],
   "source": [
    "counts_grade = Counter(df['grade'])\n",
    "print(counts_grade)"
   ]
  },
  {
   "cell_type": "code",
   "execution_count": 28,
   "metadata": {},
   "outputs": [],
   "source": [
    "def parse_df(df):\n",
    "    df['grade'] = df['grade'].apply(lambda x: x.split('Offline')[0] if x.find('Offline') else '')\n",
    "    df['merit'] = df['merit'].apply(lambda x: x.split(' ')[0])\n",
    "    df['time'] = df['time'].apply(lambda x : pd.to_datetime(x))\n",
    "    return df"
   ]
  },
  {
   "cell_type": "code",
   "execution_count": 29,
   "metadata": {},
   "outputs": [],
   "source": [
    "d = parse_df(df)"
   ]
  },
  {
   "cell_type": "code",
   "execution_count": 30,
   "metadata": {},
   "outputs": [
    {
     "data": {
      "text/html": [
       "<div>\n",
       "<style scoped>\n",
       "    .dataframe tbody tr th:only-of-type {\n",
       "        vertical-align: middle;\n",
       "    }\n",
       "\n",
       "    .dataframe tbody tr th {\n",
       "        vertical-align: top;\n",
       "    }\n",
       "\n",
       "    .dataframe thead th {\n",
       "        text-align: right;\n",
       "    }\n",
       "</style>\n",
       "<table border=\"1\" class=\"dataframe\">\n",
       "  <thead>\n",
       "    <tr style=\"text-align: right;\">\n",
       "      <th></th>\n",
       "      <th>activity</th>\n",
       "      <th>grade</th>\n",
       "      <th>merit</th>\n",
       "      <th>message</th>\n",
       "      <th>time</th>\n",
       "      <th>user</th>\n",
       "    </tr>\n",
       "  </thead>\n",
       "  <tbody>\n",
       "    <tr>\n",
       "      <th>0</th>\n",
       "      <td>574</td>\n",
       "      <td>Sr. Member</td>\n",
       "      <td>262</td>\n",
       "      <td>['&lt;div class=\"quoteheader\"&gt;&lt;a href=\"https://bi...</td>\n",
       "      <td>2018-07-10 04:54:40</td>\n",
       "      <td>yndye</td>\n",
       "    </tr>\n",
       "    <tr>\n",
       "      <th>1</th>\n",
       "      <td>686</td>\n",
       "      <td>Sr. Member</td>\n",
       "      <td>256</td>\n",
       "      <td>['1. Predictions can be true as well, and in c...</td>\n",
       "      <td>2018-07-10 05:32:52</td>\n",
       "      <td>Oasisman</td>\n",
       "    </tr>\n",
       "    <tr>\n",
       "      <th>2</th>\n",
       "      <td>41</td>\n",
       "      <td>Newbie</td>\n",
       "      <td>0</td>\n",
       "      <td>[\"Prediction is important. It already becomes ...</td>\n",
       "      <td>2018-07-10 05:45:56</td>\n",
       "      <td>Maclyn19</td>\n",
       "    </tr>\n",
       "    <tr>\n",
       "      <th>3</th>\n",
       "      <td>378</td>\n",
       "      <td>Member</td>\n",
       "      <td>11</td>\n",
       "      <td>[\"if you think an investor's prediction is a m...</td>\n",
       "      <td>2018-07-10 05:52:32</td>\n",
       "      <td>zolfa</td>\n",
       "    </tr>\n",
       "    <tr>\n",
       "      <th>4</th>\n",
       "      <td>448</td>\n",
       "      <td>Full Member</td>\n",
       "      <td>105</td>\n",
       "      <td>['Predictions are part of the way we work in i...</td>\n",
       "      <td>2018-07-10 09:39:58</td>\n",
       "      <td>Choyor</td>\n",
       "    </tr>\n",
       "  </tbody>\n",
       "</table>\n",
       "</div>"
      ],
      "text/plain": [
       "   activity         grade merit  \\\n",
       "0       574   Sr. Member    262   \n",
       "1       686   Sr. Member    256   \n",
       "2        41       Newbie      0   \n",
       "3       378       Member     11   \n",
       "4       448  Full Member    105   \n",
       "\n",
       "                                             message                time  \\\n",
       "0  ['<div class=\"quoteheader\"><a href=\"https://bi... 2018-07-10 04:54:40   \n",
       "1  ['1. Predictions can be true as well, and in c... 2018-07-10 05:32:52   \n",
       "2  [\"Prediction is important. It already becomes ... 2018-07-10 05:45:56   \n",
       "3  [\"if you think an investor's prediction is a m... 2018-07-10 05:52:32   \n",
       "4  ['Predictions are part of the way we work in i... 2018-07-10 09:39:58   \n",
       "\n",
       "       user  \n",
       "0     yndye  \n",
       "1  Oasisman  \n",
       "2  Maclyn19  \n",
       "3     zolfa  \n",
       "4    Choyor  "
      ]
     },
     "execution_count": 30,
     "metadata": {},
     "output_type": "execute_result"
    }
   ],
   "source": [
    "d.head()"
   ]
  },
  {
   "cell_type": "code",
   "execution_count": 37,
   "metadata": {},
   "outputs": [],
   "source": [
    " a = d['message'].iloc[0]"
   ]
  },
  {
   "cell_type": "code",
   "execution_count": 38,
   "metadata": {},
   "outputs": [
    {
     "data": {
      "text/plain": [
       "'[\\'<div class=\"quoteheader\"><a href=\"https://bitcointalk.org/index.php?topic=4631576.msg41876903#msg41876903\">Quote from: btcluisdiki on July 10, 2018, 03:38:59 AM</a></div>\\', \\'<div class=\"quote\">I believe that people should not rely more on predictions or speculations since there is no definite assurance<br/>that guarantee it will increase the price immediately. It\\\\\\'s better that you should be observant on the current market trend and study its pattern on your own. <br/></div>\\', \\'<br/>\\', \"Other people\\'s idea of the market is a guide as well for you to know the market sentiment so that you can act upon it. You do not need to necessarily follow their suggestions but instead you will know what they think about it and then assess it yourself if it is align with your trading plan. There is also an advantage of taking a look at other\\'s speculation because you can have a different perspective that may be helpful for your trades and learn from it as well.\"]'"
      ]
     },
     "execution_count": 38,
     "metadata": {},
     "output_type": "execute_result"
    }
   ],
   "source": [
    "a"
   ]
  },
  {
   "cell_type": "code",
   "execution_count": 41,
   "metadata": {},
   "outputs": [
    {
     "data": {
      "text/plain": [
       "'Other people\\'s idea of the market is a guide as well for you to know the market sentiment so that you can act upon it. You do not need to necessarily follow their suggestions but instead you will know what they think about it and then assess it yourself if it is align with your trading plan. There is also an advantage of taking a look at other\\'s speculation because you can have a different perspective that may be helpful for your trades and learn from it as well.\"]'"
      ]
     },
     "execution_count": 41,
     "metadata": {},
     "output_type": "execute_result"
    }
   ],
   "source": [
    "a.split('\\'<br/>\\', \"')[1]"
   ]
  },
  {
   "cell_type": "code",
   "execution_count": 42,
   "metadata": {},
   "outputs": [],
   "source": [
    "b = d['message'].iloc[1]"
   ]
  },
  {
   "cell_type": "code",
   "execution_count": 47,
   "metadata": {},
   "outputs": [
    {
     "data": {
      "text/plain": [
       "'[\\'1. Predictions can be true as well, and in crypto space we are living in pure speculation and predictions.\\', \\'<br/>\\', \\'<br/>\\', \\'2. Even without listening to speculations, you can and will be an speculator. Ex. By trying to look at the historical chart of price movement, how would you react with your next investment move? Speculate right? \\', \\'<br/>\\', \\'And the rest of your guidelines is redundant. \\', \\'<br/>\\', \"What you have posted completely contradicts the idea in crypto space. There are reliable TA\\'s that guides you along the way.\"]'"
      ]
     },
     "execution_count": 47,
     "metadata": {},
     "output_type": "execute_result"
    }
   ],
   "source": [
    "b"
   ]
  },
  {
   "cell_type": "code",
   "execution_count": 46,
   "metadata": {},
   "outputs": [
    {
     "data": {
      "text/plain": [
       "'[1. Predictions can be true as well, and in crypto space we are living in pure speculation and predictions., , , 2. Even without listening to speculations, you can and will be an speculator. Ex. By trying to look at the historical chart of price movement, how would you react with your next investment move? Speculate right? , , And the rest of your guidelines is redundant. , , \"What you have posted completely contradicts the idea in crypto space. There are reliable TAs that guides you along the way.\"]'"
      ]
     },
     "execution_count": 46,
     "metadata": {},
     "output_type": "execute_result"
    }
   ],
   "source": [
    "b.replace('<br/>', '').replace(\"\\'\", '')"
   ]
  },
  {
   "cell_type": "code",
   "execution_count": null,
   "metadata": {},
   "outputs": [],
   "source": []
  }
 ],
 "metadata": {
  "kernelspec": {
   "display_name": "Python 3",
   "language": "python",
   "name": "python3"
  },
  "language_info": {
   "codemirror_mode": {
    "name": "ipython",
    "version": 3
   },
   "file_extension": ".py",
   "mimetype": "text/x-python",
   "name": "python",
   "nbconvert_exporter": "python",
   "pygments_lexer": "ipython3",
   "version": "3.6.6"
  }
 },
 "nbformat": 4,
 "nbformat_minor": 2
}
